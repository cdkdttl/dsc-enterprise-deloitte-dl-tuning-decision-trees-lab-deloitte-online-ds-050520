{
 "cells": [
  {
   "cell_type": "markdown",
   "metadata": {},
   "source": [
    "# Hyperparameter Tuning and Pruning in Decision Trees - Lab\n",
    "\n",
    "## Introduction\n",
    "\n",
    "In this lab we will use the titanic dataset to see the impact of tree pruning and hyper parameter tuning on the predictive performance of decision tree classifier. Pruning reduces the size of decision trees by removing nodes of the tree that do not provide power to classify instances. Decision trees are the most susceptible out of all the machine learning algorithms to overfitting and effective pruning can reduce this likelihood. In this lab, we shall work with the Titanic dataset and see how we can tweak different hyper parameters for optimal pruning of the trees. \n",
    "\n",
    "## Objectives\n",
    "You will be able to:\n",
    "- Demonstrate how pruning is performed for decision trees \n",
    "- Understand and explain the role of different Decision tree hyperparameters\n",
    "- Select the best values for chosen hyperparameters and monitor the improvement in performance"
   ]
  },
  {
   "cell_type": "markdown",
   "metadata": {},
   "source": [
    "## Import necessary libraries\n",
    "\n",
    "Let's first import the libraries you would need for this lab. "
   ]
  },
  {
   "cell_type": "code",
   "execution_count": 1,
   "metadata": {},
   "outputs": [],
   "source": [
    "import numpy as np\n",
    "import pandas as pd\n",
    "import matplotlib as mpl\n",
    "import matplotlib.pyplot as plt\n",
    "from sklearn.model_selection import train_test_split\n",
    "from sklearn.tree import DecisionTreeClassifier\n",
    "from sklearn.metrics import roc_curve, auc\n",
    "plt.style.use('seaborn')"
   ]
  },
  {
   "cell_type": "markdown",
   "metadata": {},
   "source": [
    "## Read the Titanic Dataset\n",
    "\n",
    "In the repo, we have made titanic dataset , all cleaned up and pre-processed for you, so that you can focus on pruning and optimization. The features set is available as `featues.csv` and target variable as `target.csv`. \n",
    "- Load these files into separate dataframes below.\n",
    "- Check the shape for consistency and the view the head "
   ]
  },
  {
   "cell_type": "code",
   "execution_count": 8,
   "metadata": {},
   "outputs": [],
   "source": [
    "# Load features and target variables\n",
    "\n",
    "# Your code here \n",
    "\n",
    "X = pd.read_csv('features.csv')\n",
    "y = pd.read_csv('target.csv')"
   ]
  },
  {
   "cell_type": "markdown",
   "metadata": {},
   "source": [
    "This is great. Now that we have our x (feat) and y(target), we can go ahead and make a split necessary for supervised learning."
   ]
  },
  {
   "cell_type": "markdown",
   "metadata": {},
   "source": [
    "## Create a 70/30 Train/Test split\n",
    "- Using features and target variables above , create a 70/30 split using "
   ]
  },
  {
   "cell_type": "code",
   "execution_count": 9,
   "metadata": {},
   "outputs": [],
   "source": [
    "# Create a 70/30 split for given X and y \n",
    "\n",
    "\n",
    "# Your code here \n",
    "X_train, X_test, y_train, y_test = train_test_split(X, y, test_size=0.30, random_state= 10)  "
   ]
  },
  {
   "cell_type": "markdown",
   "metadata": {},
   "source": [
    "So now we have our data ready for training, lets first train a DT classifier with this data\n",
    "## Train a Vanilla Classifier\n",
    "\n",
    "__Note:__ The term \"vanilla\" is used for a machine learning algorithm with its default settings (no tweaking/tuning).\n",
    "\n",
    "- Create a decision tree instance\n",
    "- Fit a DT classifier with training dataset using all default settings for hyperparameters i.e. we don't change any parameter.\n",
    "- Set the impurity criteria to \"entropy\"."
   ]
  },
  {
   "cell_type": "code",
   "execution_count": 10,
   "metadata": {},
   "outputs": [
    {
     "data": {
      "text/plain": [
       "DecisionTreeClassifier(class_weight=None, criterion='entropy', max_depth=None,\n",
       "                       max_features=None, max_leaf_nodes=None,\n",
       "                       min_impurity_decrease=0.0, min_impurity_split=None,\n",
       "                       min_samples_leaf=1, min_samples_split=2,\n",
       "                       min_weight_fraction_leaf=0.0, presort=False,\n",
       "                       random_state=10, splitter='best')"
      ]
     },
     "execution_count": 10,
     "metadata": {},
     "output_type": "execute_result"
    }
   ],
   "source": [
    "# Train the classifier using training data \n",
    "\n",
    "\n",
    "# Your code here \n",
    "classifier = DecisionTreeClassifier(random_state=10)  \n",
    "classifier.fit(X_train, y_train)  \n",
    "DecisionTreeClassifier(class_weight=None, criterion='entropy', max_depth=None,\n",
    "            max_features=None, max_leaf_nodes=None,\n",
    "            min_impurity_decrease=0.0, min_impurity_split=None,\n",
    "            min_samples_leaf=1, min_samples_split=2,\n",
    "            min_weight_fraction_leaf=0.0, presort=False, random_state=10,\n",
    "            splitter='best')"
   ]
  },
  {
   "cell_type": "markdown",
   "metadata": {},
   "source": [
    "## Make predictions \n",
    "- Create a set of predictions using the test set \n",
    "- Using `y_test` and `y_pred`, calculate the AUC (Area under curve) to check the predictive performance"
   ]
  },
  {
   "cell_type": "code",
   "execution_count": 73,
   "metadata": {},
   "outputs": [
    {
     "name": "stdout",
     "output_type": "stream",
     "text": [
      "Accuracy is :74.25373134328358\n",
      "\n",
      "AUC is :0.72\n"
     ]
    }
   ],
   "source": [
    "# Make predictions using test set \n",
    "\n",
    "\n",
    "# Your code here \n",
    "from sklearn.metrics import accuracy_score, roc_curve, auc\n",
    "y_pred = classifier.predict(X_test)  \n",
    "\n",
    "# Check the AUC of predictions\n",
    "\n",
    "\n",
    "# Your code here \n",
    "# Calculate Accuracy \n",
    "acc = accuracy_score(y_test,y_pred) * 100\n",
    "print(\"Accuracy is :{0}\".format(acc))\n",
    "\n",
    "# Check the AUC for predictions\n",
    "false_positive_rate, true_positive_rate, thresholds = roc_curve(y_test, y_pred)\n",
    "roc_auc = auc(false_positive_rate, true_positive_rate)\n",
    "print(\"\\nAUC is :{0}\".format(round(roc_auc,2)))\n",
    "\n",
    "# # Create and print a confusion matrix \n",
    "# print('\\nConfusion Matrix')\n",
    "# print('----------------')\n",
    "# pd.crosstab(y_test, y_pred, rownames=['True'], colnames=['Predicted'], margins=True)"
   ]
  },
  {
   "cell_type": "markdown",
   "metadata": {},
   "source": [
    "## Maximum Tree Depth\n",
    "\n",
    "Let's first check for the best depth parameter for our decision tree. \n",
    "- Create an array for for depth values ranging from 1 - 32. \n",
    "- In a loop, train the classifier for each depth value (32 runs) \n",
    "- Calculate the training and test AUC for each run \n",
    "- Plot a graph to show under/over fitting and optimal value \n",
    "- Interpret the results"
   ]
  },
  {
   "cell_type": "code",
   "execution_count": null,
   "metadata": {},
   "outputs": [],
   "source": []
  },
  {
   "cell_type": "code",
   "execution_count": 145,
   "metadata": {},
   "outputs": [
    {
     "name": "stdout",
     "output_type": "stream",
     "text": [
      "<class 'pandas.core.frame.DataFrame'>\n",
      "RangeIndex: 32 entries, 0 to 31\n",
      "Data columns (total 12 columns):\n",
      "depth                    32 non-null int64\n",
      "clf                      32 non-null object\n",
      "train_pred               32 non-null object\n",
      "train_pred_fpr           32 non-null object\n",
      "train_pred_tpr           32 non-null object\n",
      "train_pred_thresholds    32 non-null object\n",
      "train_pred_auc           32 non-null float64\n",
      "y_pred                   32 non-null object\n",
      "y_pred_fpr               32 non-null object\n",
      "y_pred_tpr               32 non-null object\n",
      "y_pred_thresholds        32 non-null object\n",
      "y_pred_auc               32 non-null float64\n",
      "dtypes: float64(2), int64(1), object(9)\n",
      "memory usage: 3.1+ KB\n"
     ]
    }
   ],
   "source": [
    "# Identify the optimal tree depth for given data\n",
    "my_df= pd.DataFrame(list(range(1,33,1)),columns=['depth'])\n",
    "my_df['clf'] = my_df['depth'].apply(lambda x: DecisionTreeClassifier(max_depth=x).fit(X_train,y_train) )\n",
    "#training results\n",
    "my_df['train_pred']=my_df['clf'].apply(lambda x: x.predict(X_train))\n",
    "my_df['train_pred_fpr'],my_df['train_pred_tpr'],my_df['train_pred_thresholds'] = zip(*my_df['train_pred'].map(lambda x: roc_curve(y_train,x)))\n",
    "my_df['train_pred_auc'] = my_df.apply(lambda x: auc(x['train_pred_fpr'],x['train_pred_tpr']),axis=1)\n",
    "\n",
    "#test results\n",
    "my_df['y_pred'] = my_df['clf'].apply(lambda x: x.predict(X_test))\n",
    "my_df['y_pred_fpr'],my_df['y_pred_tpr'],my_df['y_pred_thresholds'] = zip(*my_df['y_pred'].map(lambda x: roc_curve(y_test,x)))    \n",
    "my_df['y_pred_auc'] = my_df.apply(lambda x: auc(x['y_pred_fpr'],x['y_pred_tpr']),axis=1)\n",
    "my_df.info()"
   ]
  },
  {
   "cell_type": "code",
   "execution_count": 149,
   "metadata": {},
   "outputs": [
    {
     "data": {
      "image/png": "[encoded data removed]",
      "text/plain": [
       "<Figure size 864x432 with 1 Axes>"
      ]
     },
     "metadata": {},
     "output_type": "display_data"
    }
   ],
   "source": [
    "plt.figure(figsize=(12,6))\n",
    "plt.plot(my_df['depth'], my_df['train_pred_auc'], label='Train AUC',marker='.',markersize=12)\n",
    "plt.plot(my_df['depth'], my_df['y_pred_auc'], label='Test AUC',marker='.',markersize=12)\n",
    "plt.ylabel('AUC')\n",
    "plt.xlabel('depth')\n",
    "plt.legend()\n",
    "plt.show()"
   ]
  },
  {
   "cell_type": "code",
   "execution_count": 32,
   "metadata": {},
   "outputs": [],
   "source": [
    "# You observations here \n",
    "#training increases with depth - signs of overfit\n",
    "#test accuracy decreases after 4"
   ]
  },
  {
   "cell_type": "markdown",
   "metadata": {},
   "source": [
    "## Minimum Sample Split\n",
    "\n",
    "Now check for the best `min_samples_splits` parameter for our decision tree. \n",
    "- Create an array for for `min_sample_splits` values ranging from 0.1 - 1 with an increment of 0.1 \n",
    "- In a loop, train the classifier for each `min_samples_splits` value (10 runs) \n",
    "- Calculate the training and test AUC for each run \n",
    "- Plot a graph to show under/over fitting and optimal value \n",
    "- Interpret the results"
   ]
  },
  {
   "cell_type": "code",
   "execution_count": 150,
   "metadata": {},
   "outputs": [
    {
     "name": "stdout",
     "output_type": "stream",
     "text": [
      "<class 'pandas.core.frame.DataFrame'>\n",
      "RangeIndex: 10 entries, 0 to 9\n",
      "Data columns (total 12 columns):\n",
      "min_sample_split         10 non-null float64\n",
      "clf                      10 non-null object\n",
      "train_pred               10 non-null object\n",
      "train_pred_fpr           10 non-null object\n",
      "train_pred_tpr           10 non-null object\n",
      "train_pred_thresholds    10 non-null object\n",
      "train_pred_auc           10 non-null float64\n",
      "y_pred                   10 non-null object\n",
      "y_pred_fpr               10 non-null object\n",
      "y_pred_tpr               10 non-null object\n",
      "y_pred_thresholds        10 non-null object\n",
      "y_pred_auc               10 non-null float64\n",
      "dtypes: float64(3), object(9)\n",
      "memory usage: 1.1+ KB\n"
     ]
    }
   ],
   "source": [
    "# Identify the optimal min-samples-split for given data\n",
    "import numpy as np\n",
    "\n",
    "my_df = pd.DataFrame(list((np.arange(.1,1.1,.1))),columns=['min_sample_split'])\n",
    "my_df['clf'] = my_df['min_sample_split'].apply(lambda x: DecisionTreeClassifier(min_samples_split=x).fit(X_train,y_train) )\n",
    "#training results\n",
    "my_df['train_pred']=my_df['clf'].apply(lambda x: x.predict(X_train))\n",
    "my_df['train_pred_fpr'],my_df['train_pred_tpr'],my_df['train_pred_thresholds'] = zip(*my_df['train_pred'].map(lambda x: roc_curve(y_train,x)))\n",
    "my_df['train_pred_auc'] = my_df.apply(lambda x: auc(x['train_pred_fpr'],x['train_pred_tpr']),axis=1)\n",
    "\n",
    "#test results\n",
    "my_df['y_pred'] = my_df['clf'].apply(lambda x: x.predict(X_test))\n",
    "my_df['y_pred_fpr'],my_df['y_pred_tpr'],my_df['y_pred_thresholds'] = zip(*my_df['y_pred'].map(lambda x: roc_curve(y_test,x)))    \n",
    "my_df['y_pred_auc'] = my_df.apply(lambda x: auc(x['y_pred_fpr'],x['y_pred_tpr']),axis=1)\n",
    "my_df.info()\n",
    "# Your code here "
   ]
  },
  {
   "cell_type": "code",
   "execution_count": 151,
   "metadata": {},
   "outputs": [
    {
     "data": {
      "image/png": "[encoded data removed]",
      "text/plain": [
       "<Figure size 864x432 with 1 Axes>"
      ]
     },
     "metadata": {},
     "output_type": "display_data"
    }
   ],
   "source": [
    "import matplotlib.pyplot as plt\n",
    "from matplotlib import style\n",
    "style.use('ggplot')\n",
    "\n",
    "plt.figure(figsize=(12,6))\n",
    "plt.plot(my_df['min_sample_split'], my_df['train_pred_auc'], label='Train AUC',marker='.',markersize=12)\n",
    "plt.plot(my_df['min_sample_split'], my_df['y_pred_auc'], label='Test AUC',marker='.',markersize=12)\n",
    "plt.ylabel('AUC')\n",
    "plt.xlabel('min_sample_split')\n",
    "plt.legend()\n",
    "plt.show()"
   ]
  },
  {
   "cell_type": "code",
   "execution_count": 100,
   "metadata": {},
   "outputs": [],
   "source": [
    "# Your observations\n",
    "best_min_samples_split = .4\n"
   ]
  },
  {
   "cell_type": "markdown",
   "metadata": {},
   "source": [
    "## Minimum Sample Leafs\n",
    "\n",
    "Now check for the best `min_samples_leafs` parameter value for our decision tree. \n",
    "- Create an array for for `min_samples_leafs` values ranging from 0.1 - 0.5 with an increment of 0.1 \n",
    "- In a loop, train the classifier for each `min_samples_leafs` value (5 runs) \n",
    "- Calculate the training and test AUC for each run \n",
    "- Plot a graph to show under/over fitting and optimal value \n",
    "- Interpret the results"
   ]
  },
  {
   "cell_type": "code",
   "execution_count": 155,
   "metadata": {},
   "outputs": [
    {
     "name": "stdout",
     "output_type": "stream",
     "text": [
      "<class 'pandas.core.frame.DataFrame'>\n",
      "RangeIndex: 5 entries, 0 to 4\n",
      "Data columns (total 12 columns):\n",
      "min_samples_leaf         5 non-null float64\n",
      "clf                      5 non-null object\n",
      "train_pred               5 non-null object\n",
      "train_pred_fpr           5 non-null object\n",
      "train_pred_tpr           5 non-null object\n",
      "train_pred_thresholds    5 non-null object\n",
      "train_pred_auc           5 non-null float64\n",
      "y_pred                   5 non-null object\n",
      "y_pred_fpr               5 non-null object\n",
      "y_pred_tpr               5 non-null object\n",
      "y_pred_thresholds        5 non-null object\n",
      "y_pred_auc               5 non-null float64\n",
      "dtypes: float64(3), object(9)\n",
      "memory usage: 608.0+ bytes\n"
     ]
    }
   ],
   "source": [
    "# Calculate the optimal value for minimum sample leafs\n",
    "\n",
    "# Your code here \n",
    "import numpy as np\n",
    "\n",
    "my_df = pd.DataFrame(list((np.arange(.1,.6,.1))),columns=['min_samples_leaf'])\n",
    "my_df['clf'] = my_df['min_samples_leaf'].apply(lambda x: DecisionTreeClassifier(min_samples_leaf=x).fit(X_train,y_train) )\n",
    "#training results\n",
    "my_df['train_pred']=my_df['clf'].apply(lambda x: x.predict(X_train))\n",
    "my_df['train_pred_fpr'],my_df['train_pred_tpr'],my_df['train_pred_thresholds'] = zip(*my_df['train_pred'].map(lambda x: roc_curve(y_train,x)))\n",
    "my_df['train_pred_auc'] = my_df.apply(lambda x: auc(x['train_pred_fpr'],x['train_pred_tpr']),axis=1)\n",
    "\n",
    "#test results\n",
    "my_df['y_pred'] = my_df['clf'].apply(lambda x: x.predict(X_test))\n",
    "my_df['y_pred_fpr'],my_df['y_pred_tpr'],my_df['y_pred_thresholds'] = zip(*my_df['y_pred'].map(lambda x: roc_curve(y_test,x)))    \n",
    "my_df['y_pred_auc'] = my_df.apply(lambda x: auc(x['y_pred_fpr'],x['y_pred_tpr']),axis=1)\n",
    "my_df.info()"
   ]
  },
  {
   "cell_type": "code",
   "execution_count": 156,
   "metadata": {},
   "outputs": [
    {
     "data": {
      "image/png": "[encoded data removed]",
      "text/plain": [
       "<Figure size 864x432 with 1 Axes>"
      ]
     },
     "metadata": {},
     "output_type": "display_data"
    }
   ],
   "source": [
    "import matplotlib.pyplot as plt\n",
    "from matplotlib import style\n",
    "style.use('ggplot')\n",
    "\n",
    "plt.figure(figsize=(12,6))\n",
    "plt.plot(my_df['min_samples_leaf'], my_df['train_pred_auc'], label='Train AUC',marker='.',markersize=12)\n",
    "plt.plot(my_df['min_samples_leaf'], my_df['y_pred_auc'], label='Test AUC',marker='.',markersize=12)\n",
    "plt.ylabel('AUC')\n",
    "plt.xlabel('min_samples_leaf')\n",
    "plt.legend()\n",
    "plt.show()"
   ]
  },
  {
   "cell_type": "code",
   "execution_count": 190,
   "metadata": {},
   "outputs": [],
   "source": [
    "# Your observations here\n",
    "\n",
    "best_min_samples_leaf=.3"
   ]
  },
  {
   "cell_type": "markdown",
   "metadata": {},
   "source": [
    "## Maximum Features\n",
    "\n",
    "Now check for the best `max_features` parameter value for our decision tree. \n",
    "- Create an array for for `max_features` values ranging from 1 - 12 (1 features vs all)\n",
    "- In a loop, train the classifier for each `max_features` value (12 runs) \n",
    "- Calculate the training and test AUC for each run \n",
    "- Plot a graph to show under/over fitting and optimal value \n",
    "- Interpret the results"
   ]
  },
  {
   "cell_type": "code",
   "execution_count": 157,
   "metadata": {},
   "outputs": [
    {
     "name": "stdout",
     "output_type": "stream",
     "text": [
      "<class 'pandas.core.frame.DataFrame'>\n",
      "RangeIndex: 12 entries, 0 to 11\n",
      "Data columns (total 12 columns):\n",
      "max_features             12 non-null int64\n",
      "clf                      12 non-null object\n",
      "train_pred               12 non-null object\n",
      "train_pred_fpr           12 non-null object\n",
      "train_pred_tpr           12 non-null object\n",
      "train_pred_thresholds    12 non-null object\n",
      "train_pred_auc           12 non-null float64\n",
      "y_pred                   12 non-null object\n",
      "y_pred_fpr               12 non-null object\n",
      "y_pred_tpr               12 non-null object\n",
      "y_pred_thresholds        12 non-null object\n",
      "y_pred_auc               12 non-null float64\n",
      "dtypes: float64(2), int64(1), object(9)\n",
      "memory usage: 1.2+ KB\n"
     ]
    }
   ],
   "source": [
    "# Find the best value for optimal maximum feature size\n",
    "\n",
    "my_df = pd.DataFrame(list((range(1,13,1))),columns=['max_features'])\n",
    "my_df['clf'] = my_df['max_features'].apply(lambda x: DecisionTreeClassifier(max_features=x).fit(X_train,y_train) )\n",
    "#training results\n",
    "my_df['train_pred']=my_df['clf'].apply(lambda x: x.predict(X_train))\n",
    "my_df['train_pred_fpr'],my_df['train_pred_tpr'],my_df['train_pred_thresholds'] = zip(*my_df['train_pred'].map(lambda x: roc_curve(y_train,x)))\n",
    "my_df['train_pred_auc'] = my_df.apply(lambda x: auc(x['train_pred_fpr'],x['train_pred_tpr']),axis=1)\n",
    "\n",
    "#test results\n",
    "my_df['y_pred'] = my_df['clf'].apply(lambda x: x.predict(X_test))\n",
    "my_df['y_pred_fpr'],my_df['y_pred_tpr'],my_df['y_pred_thresholds'] = zip(*my_df['y_pred'].map(lambda x: roc_curve(y_test,x)))    \n",
    "my_df['y_pred_auc'] = my_df.apply(lambda x: auc(x['y_pred_fpr'],x['y_pred_tpr']),axis=1)\n",
    "my_df.info()\n",
    "\n",
    "# Your code here "
   ]
  },
  {
   "cell_type": "code",
   "execution_count": 158,
   "metadata": {},
   "outputs": [
    {
     "data": {
      "image/png": "[encoded data removed]",
      "text/plain": [
       "<Figure size 864x432 with 1 Axes>"
      ]
     },
     "metadata": {},
     "output_type": "display_data"
    }
   ],
   "source": [
    "import matplotlib.pyplot as plt\n",
    "from matplotlib import style\n",
    "style.use('ggplot')\n",
    "\n",
    "plt.figure(figsize=(12,6))\n",
    "plt.plot(my_df['max_features'], my_df['train_pred_auc'], label='Train AUC',marker='.',markersize=12)\n",
    "plt.plot(my_df['max_features'], my_df['y_pred_auc'], label='Test AUC',marker='.',markersize=12)\n",
    "plt.ylabel('AUC')\n",
    "plt.xlabel('min_samples_leaf')\n",
    "plt.legend()\n",
    "plt.show()"
   ]
  },
  {
   "cell_type": "code",
   "execution_count": 178,
   "metadata": {},
   "outputs": [],
   "source": [
    "# Your observations here \n",
    "best_max_feature = 10\n"
   ]
  },
  {
   "cell_type": "markdown",
   "metadata": {},
   "source": [
    "## Re-train the classifier with chosen values\n",
    "\n",
    "So now we shall use the best values from each training phase above and feed it back to our classifier and see if have any improvement in predictive performance. \n",
    "\n",
    "- Train the classifier with optimal values identified \n",
    "- compare the AUC with vanilla DT AUC \n",
    "- Interpret the results of comparison"
   ]
  },
  {
   "cell_type": "code",
   "execution_count": 159,
   "metadata": {},
   "outputs": [],
   "source": [
    "# train a classifier with optimal values identified above\n",
    "best_depth = 4\n",
    "best_min_samples_split = .4\n",
    "best_min_samples_leaf=.3\n",
    "best_max_features= 10\n",
    "\n",
    "# Your code here \n",
    "clf = DecisionTreeClassifier(class_weight=None, criterion='entropy', max_depth=best_depth,\n",
    "            max_features=best_max_features, max_leaf_nodes=None,\n",
    "            min_impurity_decrease=0.0, min_impurity_split=None,\n",
    "            min_samples_leaf=best_min_samples_leaf, min_samples_split=2,\n",
    "            min_weight_fraction_leaf=0.0, presort=False, random_state=10,\n",
    "            splitter='best').fit(X_train,y_train)\n",
    "\n"
   ]
  },
  {
   "cell_type": "code",
   "execution_count": 116,
   "metadata": {},
   "outputs": [],
   "source": [
    "y_pred = clf.predict(X_test)\n",
    "train_pred=clf.predict(X_train)"
   ]
  },
  {
   "cell_type": "code",
   "execution_count": 114,
   "metadata": {},
   "outputs": [
    {
     "name": "stdout",
     "output_type": "stream",
     "text": [
      "Accuracy is :80.59701492537313\n",
      "\n",
      "AUC is :0.78\n"
     ]
    }
   ],
   "source": [
    "# Calculate Accuracy \n",
    "acc = accuracy_score(y_test,y_pred) * 100\n",
    "print(\"Accuracy is :{0}\".format(acc))\n",
    "\n",
    "# Check the AUC for predictions\n",
    "false_positive_rate, true_positive_rate, thresholds = roc_curve(y_test, y_pred)\n",
    "roc_auc = auc(false_positive_rate, true_positive_rate)\n",
    "print(\"\\nAUC is :{0}\".format(round(roc_auc,2)))\n",
    "\n",
    "# # Create and print a confusion matrix \n",
    "# print('\\nConfusion Matrix')\n",
    "# print('----------------')\n",
    "# pd.crosstab(y_test, y_pred, rownames=['True'], colnames=['Predicted'], margins=True)"
   ]
  },
  {
   "cell_type": "code",
   "execution_count": null,
   "metadata": {},
   "outputs": [],
   "source": [
    "# You observations here \n",
    "#0.7348379629629629"
   ]
  },
  {
   "cell_type": "markdown",
   "metadata": {},
   "source": [
    "In the next section, we shall talk about hyper-parameter tuning using a technique called \"grid-search\" to make this process even more granular and decisive. \n"
   ]
  },
  {
   "cell_type": "markdown",
   "metadata": {},
   "source": [
    "## Summary \n",
    "\n",
    "In this lesson, we looked at tuning a decision tree classifier in order to avoid over fitting and increasing the generalization capabilities of the classifier. For the Titanic dataset, we see that identifying optimal parameter values can result in some improvements towards predictions. This idea will be exploited further in upcoming lessons and labs. "
   ]
  }
 ],
 "metadata": {
  "kernelspec": {
   "display_name": "Python 3",
   "language": "python",
   "name": "python3"
  },
  "language_info": {
   "codemirror_mode": {
    "name": "ipython",
    "version": 3
   },
   "file_extension": ".py",
   "mimetype": "text/x-python",
   "name": "python",
   "nbconvert_exporter": "python",
   "pygments_lexer": "ipython3",
   "version": "3.6.9"
  }
 },
 "nbformat": 4,
 "nbformat_minor": 2
}
